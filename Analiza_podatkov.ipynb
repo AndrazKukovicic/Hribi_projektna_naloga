{
 "cells": [
  {
   "attachments": {},
   "cell_type": "markdown",
   "metadata": {},
   "source": [
    "# Analiza hribov in poti v Sloveniji"
   ]
  },
  {
   "attachments": {},
   "cell_type": "markdown",
   "metadata": {},
   "source": [
    "Najprej sem uvozil knjižnico Pandas, s katero sem opravil analizo podatkov. Uvozil in preberem csv datoteki s shranjenimi hribi (hribiPop.csv) in potmi (potiMin.csv). Podatke za analizo sem zbral s pletnih strani in shranil v format csv s pomočjo skripte izlušči imena hribov.py. "
   ]
  },
  {
   "cell_type": "code",
   "execution_count": 9,
   "metadata": {},
   "outputs": [
    {
     "name": "stdout",
     "output_type": "stream",
     "text": [
      "                                                             Gorovje  Višina   \n",
      "Ime                                                                            \n",
      "Ahac                       Goriško, Notranjsko in Snežniško hribovje     799  \\\n",
      "Ajdovščina                 Goriško, Notranjsko in Snežniško hribovje     804   \n",
      "Ankaran                    Goriško, Notranjsko in Snežniško hribovje      18   \n",
      "Baba (pri Javornikih)      Goriško, Notranjsko in Snežniško hribovje    1085   \n",
      "Bela stena                 Goriško, Notranjsko in Snežniško hribovje    1122   \n",
      "...                                                              ...     ...   \n",
      "Zeleno okno            Strojna, Košenjak, Kozjak in Slovenske gorice     325   \n",
      "Župank                 Strojna, Košenjak, Kozjak in Slovenske gorice     508   \n",
      "Župank                 Strojna, Košenjak, Kozjak in Slovenske gorice     508   \n",
      "Zeleno okno            Strojna, Košenjak, Kozjak in Slovenske gorice     325   \n",
      "Župank                 Strojna, Košenjak, Kozjak in Slovenske gorice     508   \n",
      "\n",
      "                       Število poti      Vrsta cilja  \n",
      "Ime                                                   \n",
      "Ahac                              6  'vrh', 'cerkev'  \n",
      "Ajdovščina                        1            'vrh'  \n",
      "Ankaran                           3               ''  \n",
      "Baba (pri Javornikih)             2            'vrh'  \n",
      "Bela stena                        1            'vrh'  \n",
      "...                             ...              ...  \n",
      "Zeleno okno                       3            'vrh'  \n",
      "Župank                            1               ''  \n",
      "Župank                            1               ''  \n",
      "Zeleno okno                       3            'vrh'  \n",
      "Župank                            1               ''  \n",
      "\n",
      "[2107 rows x 4 columns]\n",
      "                            Višinska razlika              Zahtevnost  Čas\n",
      "Ime                                                                      \n",
      "Ahac                                     189      lahka označena pot   40\n",
      "Ahac                                     300      lahka označena pot  120\n",
      "Ahac                                     379  lahka neoznačena steza   60\n",
      "Ahac                                     377  lahka neoznačena steza   60\n",
      "Ahac                                     175      lahka označena pot   60\n",
      "...                                      ...                     ...  ...\n",
      "Zavrh v Slovenskih goricah               150      lahka označena pot   80\n",
      "Zeleno okno                              120      lahka označena pot   50\n",
      "Zeleno okno                              170      lahka označena pot  115\n",
      "Zeleno okno                              220      lahka označena pot  160\n",
      "Župank                                   134      lahka označena pot   30\n",
      "\n",
      "[6907 rows x 3 columns]\n"
     ]
    }
   ],
   "source": [
    "import pandas as pd\n",
    "pd.options.display.max_rows = 20\n",
    "\n",
    "hribi = pd.read_csv('hribiPop.csv', delimiter=';', index_col='Ime')\n",
    "poti = pd.read_csv('potiMin.csv', delimiter=';', index_col='Ime')\n",
    "print(hribi)\n",
    "print(poti)"
   ]
  }
 ],
 "metadata": {
  "kernelspec": {
   "display_name": "Python 3",
   "language": "python",
   "name": "python3"
  },
  "language_info": {
   "codemirror_mode": {
    "name": "ipython",
    "version": 3
   },
   "file_extension": ".py",
   "mimetype": "text/x-python",
   "name": "python",
   "nbconvert_exporter": "python",
   "pygments_lexer": "ipython3",
   "version": "3.11.2"
  },
  "orig_nbformat": 4
 },
 "nbformat": 4,
 "nbformat_minor": 2
}
