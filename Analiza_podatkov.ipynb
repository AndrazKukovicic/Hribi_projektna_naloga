{
 "cells": [
  {
   "attachments": {},
   "cell_type": "markdown",
   "metadata": {},
   "source": [
    "# Analiza hribov in poti v Sloveniji"
   ]
  },
  {
   "attachments": {},
   "cell_type": "markdown",
   "metadata": {},
   "source": [
    "Najprej sem uvozil knjižnico Pandas, s katero sem opravil analizo podatkov. Uvozim in preberem csv datoteki s shranjenimi\n",
    "hribi (hribi.csv) in potmi (potiMin.csv). Podatke za analizo sem zbral s pletnih strani in shranil v format csv s pomočjo skripte izlušči imena hribov.py. "
   ]
  },
  {
   "cell_type": "code",
   "execution_count": 179,
   "metadata": {},
   "outputs": [],
   "source": [
    "import pandas as pd\n",
    "import matplotlib.pyplot as plt\n",
    "pd.options.display.max_rows = 30\n",
    "\n",
    "hribi = pd.read_csv('hribiPop.csv', delimiter=';', index_col='Ime')\n",
    "poti = pd.read_csv('potiMin.csv', delimiter=';', index_col='Ime')\n"
   ]
  },
  {
   "cell_type": "code",
   "execution_count": 24,
   "metadata": {},
   "outputs": [
    {
     "data": {
      "text/html": [
       "<div>\n",
       "<style scoped>\n",
       "    .dataframe tbody tr th:only-of-type {\n",
       "        vertical-align: middle;\n",
       "    }\n",
       "\n",
       "    .dataframe tbody tr th {\n",
       "        vertical-align: top;\n",
       "    }\n",
       "\n",
       "    .dataframe thead th {\n",
       "        text-align: right;\n",
       "    }\n",
       "</style>\n",
       "<table border=\"1\" class=\"dataframe\">\n",
       "  <thead>\n",
       "    <tr style=\"text-align: right;\">\n",
       "      <th></th>\n",
       "      <th>Gorovje</th>\n",
       "      <th>Višina</th>\n",
       "      <th>Število_poti</th>\n",
       "      <th>Vrsta_cilja</th>\n",
       "    </tr>\n",
       "    <tr>\n",
       "      <th>Ime</th>\n",
       "      <th></th>\n",
       "      <th></th>\n",
       "      <th></th>\n",
       "      <th></th>\n",
       "    </tr>\n",
       "  </thead>\n",
       "  <tbody>\n",
       "    <tr>\n",
       "      <th>Ahac</th>\n",
       "      <td>Goriško, Notranjsko in Snežniško hribovje</td>\n",
       "      <td>799</td>\n",
       "      <td>6</td>\n",
       "      <td>'vrh', 'cerkev'</td>\n",
       "    </tr>\n",
       "    <tr>\n",
       "      <th>Ajdovščina</th>\n",
       "      <td>Goriško, Notranjsko in Snežniško hribovje</td>\n",
       "      <td>804</td>\n",
       "      <td>1</td>\n",
       "      <td>'vrh'</td>\n",
       "    </tr>\n",
       "    <tr>\n",
       "      <th>Ankaran</th>\n",
       "      <td>Goriško, Notranjsko in Snežniško hribovje</td>\n",
       "      <td>18</td>\n",
       "      <td>3</td>\n",
       "      <td>''</td>\n",
       "    </tr>\n",
       "    <tr>\n",
       "      <th>Baba (pri Javornikih)</th>\n",
       "      <td>Goriško, Notranjsko in Snežniško hribovje</td>\n",
       "      <td>1085</td>\n",
       "      <td>2</td>\n",
       "      <td>'vrh'</td>\n",
       "    </tr>\n",
       "    <tr>\n",
       "      <th>Bela stena</th>\n",
       "      <td>Goriško, Notranjsko in Snežniško hribovje</td>\n",
       "      <td>1122</td>\n",
       "      <td>1</td>\n",
       "      <td>'vrh'</td>\n",
       "    </tr>\n",
       "    <tr>\n",
       "      <th>Bele ovce</th>\n",
       "      <td>Goriško, Notranjsko in Snežniško hribovje</td>\n",
       "      <td>1029</td>\n",
       "      <td>1</td>\n",
       "      <td>'vrh'</td>\n",
       "    </tr>\n",
       "    <tr>\n",
       "      <th>Bele stene</th>\n",
       "      <td>Goriško, Notranjsko in Snežniško hribovje</td>\n",
       "      <td>863</td>\n",
       "      <td>2</td>\n",
       "      <td>''</td>\n",
       "    </tr>\n",
       "    <tr>\n",
       "      <th>Belovka</th>\n",
       "      <td>Goriško, Notranjsko in Snežniško hribovje</td>\n",
       "      <td>848</td>\n",
       "      <td>2</td>\n",
       "      <td>'vrh'</td>\n",
       "    </tr>\n",
       "    <tr>\n",
       "      <th>Bezgarska planina</th>\n",
       "      <td>Goriško, Notranjsko in Snežniško hribovje</td>\n",
       "      <td>895</td>\n",
       "      <td>4</td>\n",
       "      <td>'planina'</td>\n",
       "    </tr>\n",
       "    <tr>\n",
       "      <th>Bivak Črna peč</th>\n",
       "      <td>Goriško, Notranjsko in Snežniško hribovje</td>\n",
       "      <td>830</td>\n",
       "      <td>2</td>\n",
       "      <td>'bivak'</td>\n",
       "    </tr>\n",
       "  </tbody>\n",
       "</table>\n",
       "</div>"
      ],
      "text/plain": [
       "                                                         Gorovje  Višina   \n",
       "Ime                                                                        \n",
       "Ahac                   Goriško, Notranjsko in Snežniško hribovje     799  \\\n",
       "Ajdovščina             Goriško, Notranjsko in Snežniško hribovje     804   \n",
       "Ankaran                Goriško, Notranjsko in Snežniško hribovje      18   \n",
       "Baba (pri Javornikih)  Goriško, Notranjsko in Snežniško hribovje    1085   \n",
       "Bela stena             Goriško, Notranjsko in Snežniško hribovje    1122   \n",
       "Bele ovce              Goriško, Notranjsko in Snežniško hribovje    1029   \n",
       "Bele stene             Goriško, Notranjsko in Snežniško hribovje     863   \n",
       "Belovka                Goriško, Notranjsko in Snežniško hribovje     848   \n",
       "Bezgarska planina      Goriško, Notranjsko in Snežniško hribovje     895   \n",
       "Bivak Črna peč         Goriško, Notranjsko in Snežniško hribovje     830   \n",
       "\n",
       "                       Število_poti      Vrsta_cilja  \n",
       "Ime                                                   \n",
       "Ahac                              6  'vrh', 'cerkev'  \n",
       "Ajdovščina                        1            'vrh'  \n",
       "Ankaran                           3               ''  \n",
       "Baba (pri Javornikih)             2            'vrh'  \n",
       "Bela stena                        1            'vrh'  \n",
       "Bele ovce                         1            'vrh'  \n",
       "Bele stene                        2               ''  \n",
       "Belovka                           2            'vrh'  \n",
       "Bezgarska planina                 4        'planina'  \n",
       "Bivak Črna peč                    2          'bivak'  "
      ]
     },
     "execution_count": 24,
     "metadata": {},
     "output_type": "execute_result"
    }
   ],
   "source": [
    "hribi.head(10)"
   ]
  },
  {
   "cell_type": "code",
   "execution_count": 33,
   "metadata": {},
   "outputs": [
    {
     "data": {
      "text/html": [
       "<div>\n",
       "<style scoped>\n",
       "    .dataframe tbody tr th:only-of-type {\n",
       "        vertical-align: middle;\n",
       "    }\n",
       "\n",
       "    .dataframe tbody tr th {\n",
       "        vertical-align: top;\n",
       "    }\n",
       "\n",
       "    .dataframe thead th {\n",
       "        text-align: right;\n",
       "    }\n",
       "</style>\n",
       "<table border=\"1\" class=\"dataframe\">\n",
       "  <thead>\n",
       "    <tr style=\"text-align: right;\">\n",
       "      <th></th>\n",
       "      <th>Gorovje</th>\n",
       "      <th>Višina</th>\n",
       "      <th>Število_poti</th>\n",
       "      <th>Vrsta_cilja</th>\n",
       "      <th>row_number</th>\n",
       "    </tr>\n",
       "    <tr>\n",
       "      <th>Ime</th>\n",
       "      <th></th>\n",
       "      <th></th>\n",
       "      <th></th>\n",
       "      <th></th>\n",
       "      <th></th>\n",
       "    </tr>\n",
       "  </thead>\n",
       "  <tbody>\n",
       "    <tr>\n",
       "      <th>Ahac</th>\n",
       "      <td>Goriško, Notranjsko in Snežniško hribovje</td>\n",
       "      <td>799</td>\n",
       "      <td>6</td>\n",
       "      <td>'vrh', 'cerkev'</td>\n",
       "      <td>0</td>\n",
       "    </tr>\n",
       "    <tr>\n",
       "      <th>Ajdovščina</th>\n",
       "      <td>Goriško, Notranjsko in Snežniško hribovje</td>\n",
       "      <td>804</td>\n",
       "      <td>1</td>\n",
       "      <td>'vrh'</td>\n",
       "      <td>1</td>\n",
       "    </tr>\n",
       "    <tr>\n",
       "      <th>Ankaran</th>\n",
       "      <td>Goriško, Notranjsko in Snežniško hribovje</td>\n",
       "      <td>18</td>\n",
       "      <td>3</td>\n",
       "      <td>''</td>\n",
       "      <td>2</td>\n",
       "    </tr>\n",
       "    <tr>\n",
       "      <th>Baba (pri Javornikih)</th>\n",
       "      <td>Goriško, Notranjsko in Snežniško hribovje</td>\n",
       "      <td>1085</td>\n",
       "      <td>2</td>\n",
       "      <td>'vrh'</td>\n",
       "      <td>3</td>\n",
       "    </tr>\n",
       "    <tr>\n",
       "      <th>Bela stena</th>\n",
       "      <td>Goriško, Notranjsko in Snežniško hribovje</td>\n",
       "      <td>1122</td>\n",
       "      <td>1</td>\n",
       "      <td>'vrh'</td>\n",
       "      <td>4</td>\n",
       "    </tr>\n",
       "    <tr>\n",
       "      <th>...</th>\n",
       "      <td>...</td>\n",
       "      <td>...</td>\n",
       "      <td>...</td>\n",
       "      <td>...</td>\n",
       "      <td>...</td>\n",
       "    </tr>\n",
       "    <tr>\n",
       "      <th>Zeleno okno</th>\n",
       "      <td>Strojna, Košenjak, Kozjak in Slovenske gorice</td>\n",
       "      <td>325</td>\n",
       "      <td>3</td>\n",
       "      <td>'vrh'</td>\n",
       "      <td>2102</td>\n",
       "    </tr>\n",
       "    <tr>\n",
       "      <th>Župank</th>\n",
       "      <td>Strojna, Košenjak, Kozjak in Slovenske gorice</td>\n",
       "      <td>508</td>\n",
       "      <td>1</td>\n",
       "      <td>''</td>\n",
       "      <td>2103</td>\n",
       "    </tr>\n",
       "    <tr>\n",
       "      <th>Župank</th>\n",
       "      <td>Strojna, Košenjak, Kozjak in Slovenske gorice</td>\n",
       "      <td>508</td>\n",
       "      <td>1</td>\n",
       "      <td>''</td>\n",
       "      <td>2104</td>\n",
       "    </tr>\n",
       "    <tr>\n",
       "      <th>Zeleno okno</th>\n",
       "      <td>Strojna, Košenjak, Kozjak in Slovenske gorice</td>\n",
       "      <td>325</td>\n",
       "      <td>3</td>\n",
       "      <td>'vrh'</td>\n",
       "      <td>2105</td>\n",
       "    </tr>\n",
       "    <tr>\n",
       "      <th>Župank</th>\n",
       "      <td>Strojna, Košenjak, Kozjak in Slovenske gorice</td>\n",
       "      <td>508</td>\n",
       "      <td>1</td>\n",
       "      <td>''</td>\n",
       "      <td>2106</td>\n",
       "    </tr>\n",
       "  </tbody>\n",
       "</table>\n",
       "<p>2107 rows × 5 columns</p>\n",
       "</div>"
      ],
      "text/plain": [
       "                                                             Gorovje  Višina   \n",
       "Ime                                                                            \n",
       "Ahac                       Goriško, Notranjsko in Snežniško hribovje     799  \\\n",
       "Ajdovščina                 Goriško, Notranjsko in Snežniško hribovje     804   \n",
       "Ankaran                    Goriško, Notranjsko in Snežniško hribovje      18   \n",
       "Baba (pri Javornikih)      Goriško, Notranjsko in Snežniško hribovje    1085   \n",
       "Bela stena                 Goriško, Notranjsko in Snežniško hribovje    1122   \n",
       "...                                                              ...     ...   \n",
       "Zeleno okno            Strojna, Košenjak, Kozjak in Slovenske gorice     325   \n",
       "Župank                 Strojna, Košenjak, Kozjak in Slovenske gorice     508   \n",
       "Župank                 Strojna, Košenjak, Kozjak in Slovenske gorice     508   \n",
       "Zeleno okno            Strojna, Košenjak, Kozjak in Slovenske gorice     325   \n",
       "Župank                 Strojna, Košenjak, Kozjak in Slovenske gorice     508   \n",
       "\n",
       "                       Število_poti      Vrsta_cilja  row_number  \n",
       "Ime                                                               \n",
       "Ahac                              6  'vrh', 'cerkev'           0  \n",
       "Ajdovščina                        1            'vrh'           1  \n",
       "Ankaran                           3               ''           2  \n",
       "Baba (pri Javornikih)             2            'vrh'           3  \n",
       "Bela stena                        1            'vrh'           4  \n",
       "...                             ...              ...         ...  \n",
       "Zeleno okno                       3            'vrh'        2102  \n",
       "Župank                            1               ''        2103  \n",
       "Župank                            1               ''        2104  \n",
       "Zeleno okno                       3            'vrh'        2105  \n",
       "Župank                            1               ''        2106  \n",
       "\n",
       "[2107 rows x 5 columns]"
      ]
     },
     "execution_count": 33,
     "metadata": {},
     "output_type": "execute_result"
    }
   ],
   "source": [
    "hribi = hribi.assign(row_number=range(len(hribi)))\n",
    "hribi"
   ]
  },
  {
   "cell_type": "code",
   "execution_count": 25,
   "metadata": {},
   "outputs": [
    {
     "data": {
      "text/html": [
       "<div>\n",
       "<style scoped>\n",
       "    .dataframe tbody tr th:only-of-type {\n",
       "        vertical-align: middle;\n",
       "    }\n",
       "\n",
       "    .dataframe tbody tr th {\n",
       "        vertical-align: top;\n",
       "    }\n",
       "\n",
       "    .dataframe thead th {\n",
       "        text-align: right;\n",
       "    }\n",
       "</style>\n",
       "<table border=\"1\" class=\"dataframe\">\n",
       "  <thead>\n",
       "    <tr style=\"text-align: right;\">\n",
       "      <th></th>\n",
       "      <th>Višinska_razlika</th>\n",
       "      <th>Zahtevnost</th>\n",
       "      <th>Čas</th>\n",
       "    </tr>\n",
       "    <tr>\n",
       "      <th>Ime</th>\n",
       "      <th></th>\n",
       "      <th></th>\n",
       "      <th></th>\n",
       "    </tr>\n",
       "  </thead>\n",
       "  <tbody>\n",
       "    <tr>\n",
       "      <th>Ahac</th>\n",
       "      <td>189</td>\n",
       "      <td>lahka označena pot</td>\n",
       "      <td>40</td>\n",
       "    </tr>\n",
       "    <tr>\n",
       "      <th>Ahac</th>\n",
       "      <td>300</td>\n",
       "      <td>lahka označena pot</td>\n",
       "      <td>120</td>\n",
       "    </tr>\n",
       "    <tr>\n",
       "      <th>Ahac</th>\n",
       "      <td>379</td>\n",
       "      <td>lahka neoznačena steza</td>\n",
       "      <td>60</td>\n",
       "    </tr>\n",
       "    <tr>\n",
       "      <th>Ahac</th>\n",
       "      <td>377</td>\n",
       "      <td>lahka neoznačena steza</td>\n",
       "      <td>60</td>\n",
       "    </tr>\n",
       "    <tr>\n",
       "      <th>Ahac</th>\n",
       "      <td>175</td>\n",
       "      <td>lahka označena pot</td>\n",
       "      <td>60</td>\n",
       "    </tr>\n",
       "    <tr>\n",
       "      <th>Ahac</th>\n",
       "      <td>69</td>\n",
       "      <td>lahka neoznačena steza</td>\n",
       "      <td>20</td>\n",
       "    </tr>\n",
       "    <tr>\n",
       "      <th>Ajdovščina</th>\n",
       "      <td>225</td>\n",
       "      <td>lahka neoznačena steza</td>\n",
       "      <td>40</td>\n",
       "    </tr>\n",
       "    <tr>\n",
       "      <th>Ankaran</th>\n",
       "      <td>400</td>\n",
       "      <td>lahka označena pot</td>\n",
       "      <td>210</td>\n",
       "    </tr>\n",
       "    <tr>\n",
       "      <th>Ankaran</th>\n",
       "      <td>200</td>\n",
       "      <td>lahka označena pot</td>\n",
       "      <td>120</td>\n",
       "    </tr>\n",
       "    <tr>\n",
       "      <th>Ankaran</th>\n",
       "      <td>70</td>\n",
       "      <td>lahka označena pot</td>\n",
       "      <td>45</td>\n",
       "    </tr>\n",
       "  </tbody>\n",
       "</table>\n",
       "</div>"
      ],
      "text/plain": [
       "            Višinska_razlika              Zahtevnost  Čas\n",
       "Ime                                                      \n",
       "Ahac                     189      lahka označena pot   40\n",
       "Ahac                     300      lahka označena pot  120\n",
       "Ahac                     379  lahka neoznačena steza   60\n",
       "Ahac                     377  lahka neoznačena steza   60\n",
       "Ahac                     175      lahka označena pot   60\n",
       "Ahac                      69  lahka neoznačena steza   20\n",
       "Ajdovščina               225  lahka neoznačena steza   40\n",
       "Ankaran                  400      lahka označena pot  210\n",
       "Ankaran                  200      lahka označena pot  120\n",
       "Ankaran                   70      lahka označena pot   45"
      ]
     },
     "execution_count": 25,
     "metadata": {},
     "output_type": "execute_result"
    }
   ],
   "source": [
    "poti.head(10)"
   ]
  },
  {
   "attachments": {},
   "cell_type": "markdown",
   "metadata": {},
   "source": [
    "**1.** *V katerem gorovju imajo hribi v povprečju največ poti?*"
   ]
  },
  {
   "cell_type": "code",
   "execution_count": 28,
   "metadata": {},
   "outputs": [],
   "source": [
    "hribi_po_gorovju = hribi.groupby('Gorovje')"
   ]
  },
  {
   "cell_type": "code",
   "execution_count": 42,
   "metadata": {},
   "outputs": [
    {
     "data": {
      "text/plain": [
       "<Axes: xlabel='Gorovje'>"
      ]
     },
     "execution_count": 42,
     "metadata": {},
     "output_type": "execute_result"
    },
    {
     "data": {
      "image/png": "[encoded data removed]",
      "text/plain": [
       "<Figure size 640x480 with 1 Axes>"
      ]
     },
     "metadata": {},
     "output_type": "display_data"
    }
   ],
   "source": [
    "hribi_po_gorovju.Število_poti.sum().sort_values().plot.bar()"
   ]
  },
  {
   "cell_type": "code",
   "execution_count": 156,
   "metadata": {},
   "outputs": [
    {
     "data": {
      "text/plain": [
       "<Axes: xlabel='Gorovje', ylabel='Povprečno število poti na hrib'>"
      ]
     },
     "execution_count": 156,
     "metadata": {},
     "output_type": "execute_result"
    },
    {
     "data": {
      "image/png": "[encoded data removed]",
      "text/plain": [
       "<Figure size 640x480 with 1 Axes>"
      ]
     },
     "metadata": {},
     "output_type": "display_data"
    }
   ],
   "source": [
    "hribi_po_gorovju.Število_poti.mean().sort_values().plot.bar(ylabel='Povprečno število poti na hrib', color=['green', '#FFD700'])"
   ]
  },
  {
   "attachments": {},
   "cell_type": "markdown",
   "metadata": {},
   "source": [
    "**2.** *Višji hribi imajo zahtevnejše poti.*"
   ]
  },
  {
   "attachments": {},
   "cell_type": "markdown",
   "metadata": {},
   "source": [
    "'Prekmurje', 'Strojna, Košenjak, Kozjak in Slovenske gorice', 'Goriško, Notranjsko in Snežniško hribovje', 'Julijske Alpe', 'Posavsko hribovje in Dolenjska', 'Karavanke', 'Pohorje, Dravinjske gorice in Haloze', 'Polhograjsko hribovje in Ljubljana', 'Kamniško Savinjske Alpe', 'Škofjeloško, Cerkljansko hribovje in Jelovica'\n",
    "TODO: 1.povezati ime hriba z njegovimi potmi,\n",
    "2. Zahtevnost poti pretvoriti v število oziroma ordinalno spremenljivko, \n",
    "3. Za vsak hrib izračunati povprečje zahtevnosti poti, \n",
    "4. Primerjati višino hribov in njihovo povprečno zahtevnost (npr. scatter plot)"
   ]
  },
  {
   "cell_type": "code",
   "execution_count": 102,
   "metadata": {},
   "outputs": [
    {
     "name": "stdout",
     "output_type": "stream",
     "text": [
      "{'zelo zahtevna označena pot, zahtevno brezpotje', 'zahtevno brezpotje, zahtevna označena pot', 'delno zahtevna označena pot, delno zahtevna neoznačena pot', 'zahtevno brezpotje', 'zelo zahtevna označena pot, lahko brezpotje', 'lahka neoznačena steza, zahtevno brezpotje', 'lahka označena pot, lahka neoznačena steza', 'lahka neoznačena steza, lahka označena pot', 'zelo zahtevna označena pot, zahtevna neoznačena steza', 'delno zahtevna označena pot, lahko brezpotje', 'zahtevna označena pot, delno zahtevna neoznačena pot', 'lahka neoznačena steza, zahtevna označena pot', 'lahka označena pot, zahtevna označena pot', 'lahko brezpotje, zahtevna označena pot', 'lahko brezpotje, delno zahtevna označena pot', 'zelo zahtevna neoznačena steza', 'zahtevna označena pot', 'alpinistični vzpon', 'zahtevna neoznačena steza', 'zahtevna neoznačena steza, zahtevna označena pot', 'delno zahtevna neoznačena pot, lahka označena pot', 'zahtevna neoznačena steza, lahko brezpotje', 'lahka označena pot, delno zahtevna neoznačena pot', 'lahko brezpotje', 'lahko brezpotje, lahka neoznačena steza', 'delno zahtevna označena pot', 'lahka neoznačena steza', 'zahtevna označena pot, lahka neoznačena steza', 'zelo zahtevna označena pot, delno zahtevna neoznačena pot', 'delno zahtevna označena pot, zahtevno brezpotje', 'lahka označena pot, lahko brezpotje', 'zelo zahtevno brezpotje', 'delno zahtevna neoznačena pot', 'izjemno zahtevna označena pot, lahko brezpotje', 'lahka označena pot, lahka označena pot', 'delno zahtevna označena pot, lahka neoznačena steza', 'delno zahtevna neoznačena pot, lahko brezpotje', 'lahka neoznačena steza, zelo zahtevna označena pot', 'lahka označena pot, zahtevno brezpotje', 'zelo zahtevna označena pot', 'zahtevna označena pot, lahko brezpotje', 'delno zahtevna neoznačena pot, zahtevna označena pot', 'lahka označena pot, delno zahtevna označena pot', 'delno zahtevna označena pot, zelo zahtevno brezpotje', 'zahtevna označena pot, zahtevno brezpotje', 'zahtevna neoznačena steza, lahka označena pot', 'lahko brezpotje, lahka označena pot', 'zahtevno brezpotje, zelo zahtevna označena pot', 'lahko brezpotje, zelo zahtevna označena pot', 'ni podatka', 'zelo zahtevna neoznačena steza, lahko brezpotje', 'zelo zahtevna označena pot, lahka neoznačena steza', 'zelo zahtevna označena pot, zelo zahtevno brezpotje', 'delno zahtevna neoznačena pot, delno zahtevna označena pot', 'zahtevno brezpotje, zahtevna neoznačena steza', 'izjemno zahtevna označena pot', 'lahka neoznačena steza, delno zahtevna označena pot', 'zelo zahtevna neoznačena steza, zahtevna označena pot', 'lahka označena pot', 'lahka neoznačena steza, delno zahtevna neoznačena pot', 'lahka neoznačena steza, lahko brezpotje'}\n"
     ]
    }
   ],
   "source": [
    "# Poiščemo vse možne zastevnosti\n",
    "def zahtevnosti(datoteka):\n",
    "    zahtevnostiSez = []\n",
    "    with open (datoteka, 'r', encoding='utf-8') as dat:\n",
    "        vrste = [vrsta.strip() for vrsta in dat]\n",
    "        for vrsta in vrste:\n",
    "            if vrste.index(vrsta) == 0:\n",
    "                continue\n",
    "            else:\n",
    "                ime, visinska, zahtevnost, cas = vrsta.split(';')\n",
    "                zahtevnostiSez.append(zahtevnost)\n",
    "    zahtevnosti = set(zahtevnostiSez)\n",
    "    return zahtevnosti\n",
    "vse_zahtevnosti = zahtevnosti('potiMin.csv')\n",
    "print(vse_zahtevnosti)\n"
   ]
  },
  {
   "cell_type": "code",
   "execution_count": null,
   "metadata": {},
   "outputs": [],
   "source": [
    "\n",
    "poti_zahtevnost = poti.Zahtevnost.replace(\n",
    "    ['lahka označena pot','lahka neoznačena steza', \n",
    "'lahka označena pot, lahka neoznačena steza', 'lahka neoznačena steza, lahka označena pot', \n",
    "'lahka označena pot, lahka označena pot'], 1).replace(\n",
    "    ['delno zahtevna označena pot', 'delno zahtevna neoznačena pot', \n",
    "'lahko brezpotje', 'lahka označena pot, lahko brezpotje', \n",
    "'lahko brezpotje, lahka označena pot', 'delno zahtevna označena pot, lahka neoznačena steza', \n",
    "'delno zahtevna neoznačena pot, lahka označena pot', 'delno zahtevna označena pot, delno zahtevna neoznačena pot', \n",
    "'delno zahtevna označena pot, lahko brezpotje', 'lahko brezpotje, delno zahtevna označena pot', \n",
    "'lahka označena pot, delno zahtevna neoznačena pot', 'lahko brezpotje, lahka neoznačena steza', \n",
    "'delno zahtevna neoznačena pot, lahko brezpotje', 'lahka označena pot, delno zahtevna označena pot', \n",
    "'delno zahtevna neoznačena pot, delno zahtevna označena pot', 'lahka neoznačena steza, delno zahtevna označena pot', \n",
    "'lahka neoznačena steza, delno zahtevna neoznačena pot','lahka neoznačena steza, lahko brezpotje'], 2).replace(\n",
    "    ['zahtevna označena pot', 'zahtevna neoznačena steza', \n",
    "'zahtevno brezpotje', 'zahtevno brezpotje, zahtevna označena pot', \n",
    "'lahka neoznačena steza, zahtevno brezpotje', 'zahtevna označena pot, delno zahtevna neoznačena pot', \n",
    "'lahka neoznačena steza, zahtevna označena pot', 'lahka označena pot, zahtevna označena pot', \n",
    "'lahko brezpotje, zahtevna označena pot', 'zahtevna neoznačena steza, lahko brezpotje', \n",
    "'zahtevna označena pot, lahka neoznačena steza', 'delno zahtevna označena pot, zahtevno brezpotje', \n",
    "'lahka označena pot, zahtevno brezpotje', 'zahtevna označena pot, lahko brezpotje', \n",
    "'delno zahtevna neoznačena pot, zahtevna označena pot', 'zahtevna označena pot, zahtevno brezpotje',\n",
    "'zahtevna neoznačena steza, lahka označena pot', 'zahtevno brezpotje, zahtevna neoznačena steza', \n",
    "'zahtevna neoznačena steza, zahtevna označena pot'], 3).replace(\n",
    "    ['zelo zahtevna označena pot', 'zelo zahtevna neoznačena steza', \n",
    "'zelo zahtevno brezpotje', 'zelo zahtevna označena pot, zahtevno brezpotje', \n",
    "'zelo zahtevna označena pot, lahko brezpotje', 'zelo zahtevna označena pot, zahtevna neoznačena steza', \n",
    "'zelo zahtevna označena pot, delno zahtevna neoznačena pot', 'lahka neoznačena steza, zelo zahtevna označena pot', \n",
    "'delno zahtevna označena pot, zelo zahtevno brezpotje', 'zahtevno brezpotje, zelo zahtevna označena pot', \n",
    "'lahko brezpotje, zelo zahtevna označena pot', 'zelo zahtevna neoznačena steza, lahko brezpotje', \n",
    "'zelo zahtevna označena pot, lahka neoznačena steza', 'zelo zahtevna označena pot, zelo zahtevno brezpotje', \n",
    "'zelo zahtevna neoznačena steza, zahtevna označena pot'], 4).replace(\n",
    "    ['izjemno zahtevna označena pot', 'alpinistični vzpon', \n",
    "'izjemno zahtevna označena pot, lahko brezpotje'], 5).replace('ni podatka', pd.NA)\n",
    "\n",
    "\n",
    "poti_na_hrib = poti_zahtevnost.groupby('Ime').mean()\n",
    "print(poti_na_hrib)"
   ]
  },
  {
   "cell_type": "code",
   "execution_count": null,
   "metadata": {},
   "outputs": [],
   "source": [
    "skupaj_zahtevnost = pd.merge(poti_na_hrib, hribi, left_on='Ime', right_on='Ime')\n",
    "skupaj_zahtevnost"
   ]
  },
  {
   "cell_type": "code",
   "execution_count": null,
   "metadata": {},
   "outputs": [],
   "source": [
    "skupaj_zahtevnost.plot.scatter('Višina', 'Zahtevnost', color='green')\n",
    "skupaj_zahtevnost_korelacija = skupaj_zahtevnost[['Višina', 'Zahtevnost']]\n",
    "skupaj_zahtevnost_korelacija.corr(method='pearson')"
   ]
  },
  {
   "attachments": {},
   "cell_type": "markdown",
   "metadata": {},
   "source": [
    "**3.** *Če je na cilju koča, do cilja vodi več poti, kot do ciljev brez koč.*"
   ]
  },
  {
   "attachments": {},
   "cell_type": "markdown",
   "metadata": {},
   "source": [
    "Najprej sem prefiltriral cilje glede na to ali je na njih koča (cilji_koce) ali je ni (cilji_ni_koce). Opazim, da 1784 ciljev na vrhu nima koče in le na 323 ciljih stoji tudi koča."
   ]
  },
  {
   "cell_type": "code",
   "execution_count": 186,
   "metadata": {},
   "outputs": [],
   "source": [
    "cilji_koce = hribi.loc[hribi['Vrsta_cilja'].str.contains('koča')]\n",
    "cilji_ni_koce = hribi.loc[~hribi['Vrsta_cilja'].str.contains('koča')].replace('', pd.NA)"
   ]
  },
  {
   "cell_type": "code",
   "execution_count": null,
   "metadata": {},
   "outputs": [],
   "source": [
    "cilji_koce"
   ]
  },
  {
   "cell_type": "code",
   "execution_count": null,
   "metadata": {},
   "outputs": [],
   "source": [
    "figure = plt.figure(1, figsize=(10,10))\n",
    "fig = figure.add_subplot(111)\n",
    "fig.set_ylabel('Število poti na hrib')\n",
    "fig.set_xlabel('Poti s ciljem, na katerem je koča ali je ni')\n",
    "fig.set_title('Primerjava ševila poti, ki vodijo do ciljev s kočo ali brez koče')\n",
    "bp_cilji = plt.boxplot([cilji_koce['Število_poti'], cilji_ni_koce['Število_poti']], patch_artist=True, sym='#669900', meanline=True, showmeans=True, labels=['S kočo', 'Brez Koče'])\n",
    "for box in bp_cilji['boxes']:\n",
    "    box.set(color='#669900', linewidth=2)\n",
    "    box.set(facecolor='#ffc61a', alpha=0.5)\n",
    "\n",
    "for whisker in bp_cilji['whiskers']:\n",
    "    whisker.set(color='#669900', linewidth=2, linestyle='dashed')\n",
    "\n",
    "for cap in bp_cilji['caps']:\n",
    "    cap.set(color='#669900', linewidth=2)\n",
    "\n",
    "for median in bp_cilji['medians']:\n",
    "    median.set(color='#669900', linestyle='dashed', linewidth=2, marker='', markersize=7)\n",
    "\n",
    "for mean in bp_cilji['means']:\n",
    "    mean.set(color='#669900', linestyle='solid', linewidth=2)\n",
    "\n",
    "for flier in bp_cilji['fliers']:\n",
    "    flier.set(marker='o', color= '#669900', alpha=0.4)\n",
    "plt.show"
   ]
  },
  {
   "cell_type": "code",
   "execution_count": null,
   "metadata": {},
   "outputs": [],
   "source": [
    "cilji_koce.Število_poti.mean()"
   ]
  },
  {
   "cell_type": "code",
   "execution_count": null,
   "metadata": {},
   "outputs": [],
   "source": [
    "cilji_ni_koce.Število_poti.mean()"
   ]
  },
  {
   "attachments": {},
   "cell_type": "markdown",
   "metadata": {},
   "source": [
    "**4.** *V Julijskih alpah je največ zahtevnejših poti.*"
   ]
  },
  {
   "attachments": {},
   "cell_type": "markdown",
   "metadata": {},
   "source": [
    "najprej \n",
    "število poti glede na zahtevnost za vsako gorovje\n",
    "Združil v eno tabelo zahtevnost poti in podatke o hribu\n",
    "\n"
   ]
  },
  {
   "cell_type": "code",
   "execution_count": 293,
   "metadata": {},
   "outputs": [
    {
     "data": {
      "text/plain": [
       "<pandas.core.groupby.generic.DataFrameGroupBy object at 0x0000014ECDC0F8D0>"
      ]
     },
     "execution_count": 293,
     "metadata": {},
     "output_type": "execute_result"
    }
   ],
   "source": [
    "pz = poti_zahtevnost.to_frame()\n",
    "pzSkupaj = pz.join(hribi, on='Ime')\n",
    "pzSkupaj.groupby('Gorovje')\n",
    "gorovja = ['Prekmurje', 'Strojna, Košenjak, Kozjak in Slovenske gorice', 'Goriško, Notranjsko in Snežniško hribovje', \n",
    "'Julijske Alpe', 'Posavsko hribovje in Dolenjska', 'Karavanke', 'Pohorje, Dravinjske gorice in Haloze', \n",
    "'Polhograjsko hribovje in Ljubljana', 'Kamniško Savinjske Alpe', 'Škofjeloško, Cerkljansko hribovje in Jelovica']\n"
   ]
  },
  {
   "cell_type": "code",
   "execution_count": 343,
   "metadata": {},
   "outputs": [
    {
     "data": {
      "text/html": [
       "<div>\n",
       "<style scoped>\n",
       "    .dataframe tbody tr th:only-of-type {\n",
       "        vertical-align: middle;\n",
       "    }\n",
       "\n",
       "    .dataframe tbody tr th {\n",
       "        vertical-align: top;\n",
       "    }\n",
       "\n",
       "    .dataframe thead th {\n",
       "        text-align: right;\n",
       "    }\n",
       "</style>\n",
       "<table border=\"1\" class=\"dataframe\">\n",
       "  <thead>\n",
       "    <tr style=\"text-align: right;\">\n",
       "      <th></th>\n",
       "      <th></th>\n",
       "      <th>ŠtZahtevnih</th>\n",
       "    </tr>\n",
       "    <tr>\n",
       "      <th>Gorovje</th>\n",
       "      <th>Zahtevnost</th>\n",
       "      <th></th>\n",
       "    </tr>\n",
       "  </thead>\n",
       "  <tbody>\n",
       "    <tr>\n",
       "      <th rowspan=\"4\" valign=\"top\">Goriško, Notranjsko in Snežniško hribovje</th>\n",
       "      <th>1</th>\n",
       "      <td>773</td>\n",
       "    </tr>\n",
       "    <tr>\n",
       "      <th>2</th>\n",
       "      <td>33</td>\n",
       "    </tr>\n",
       "    <tr>\n",
       "      <th>3</th>\n",
       "      <td>7</td>\n",
       "    </tr>\n",
       "    <tr>\n",
       "      <th>4</th>\n",
       "      <td>5</td>\n",
       "    </tr>\n",
       "    <tr>\n",
       "      <th>Julijske Alpe</th>\n",
       "      <th>1</th>\n",
       "      <td>755</td>\n",
       "    </tr>\n",
       "    <tr>\n",
       "      <th>...</th>\n",
       "      <th>...</th>\n",
       "      <td>...</td>\n",
       "    </tr>\n",
       "    <tr>\n",
       "      <th>Strojna, Košenjak, Kozjak in Slovenske gorice</th>\n",
       "      <th>2</th>\n",
       "      <td>6</td>\n",
       "    </tr>\n",
       "    <tr>\n",
       "      <th rowspan=\"4\" valign=\"top\">Škofjeloško, Cerkljansko hribovje in Jelovica</th>\n",
       "      <th>1</th>\n",
       "      <td>581</td>\n",
       "    </tr>\n",
       "    <tr>\n",
       "      <th>2</th>\n",
       "      <td>28</td>\n",
       "    </tr>\n",
       "    <tr>\n",
       "      <th>3</th>\n",
       "      <td>3</td>\n",
       "    </tr>\n",
       "    <tr>\n",
       "      <th>4</th>\n",
       "      <td>4</td>\n",
       "    </tr>\n",
       "  </tbody>\n",
       "</table>\n",
       "<p>37 rows × 1 columns</p>\n",
       "</div>"
      ],
      "text/plain": [
       "                                                          ŠtZahtevnih\n",
       "Gorovje                                       Zahtevnost             \n",
       "Goriško, Notranjsko in Snežniško hribovje     1                   773\n",
       "                                              2                    33\n",
       "                                              3                     7\n",
       "                                              4                     5\n",
       "Julijske Alpe                                 1                   755\n",
       "...                                                               ...\n",
       "Strojna, Košenjak, Kozjak in Slovenske gorice 2                     6\n",
       "Škofjeloško, Cerkljansko hribovje in Jelovica 1                   581\n",
       "                                              2                    28\n",
       "                                              3                     3\n",
       "                                              4                     4\n",
       "\n",
       "[37 rows x 1 columns]"
      ]
     },
     "execution_count": 343,
     "metadata": {},
     "output_type": "execute_result"
    }
   ],
   "source": [
    "Združeno = pzSkupaj.groupby(['Gorovje', 'Zahtevnost']).size()\n",
    "df_pzSkupaj = Združeno.to_frame('ŠtZahtevnih')\n",
    "#.sort_values().plot(kind='bar', stacked=True, x='Gorovje')\n",
    "#df_pzSkupaj.plot(kind='bar', stacked=True)\n",
    "df_pzSkupaj"
   ]
  },
  {
   "cell_type": "code",
   "execution_count": null,
   "metadata": {},
   "outputs": [],
   "source": [
    "pzSkupaj.groupby(['Gorovje', 'Zahtevnost']).plot(kind='bar', stacked=True)\n",
    "gorovja = ['Prekmurje', 'Strojna, Košenjak, Kozjak in Slovenske gorice', 'Goriško, Notranjsko in Snežniško hribovje', \n",
    "'Julijske Alpe', 'Posavsko hribovje in Dolenjska', 'Karavanke', 'Pohorje, Dravinjske gorice in Haloze', \n",
    "'Polhograjsko hribovje in Ljubljana', 'Kamniško Savinjske Alpe', 'Škofjeloško, Cerkljansko hribovje in Jelovica']\n",
    "df_gorovje = [pd.DataFrame(pzSkupaj[Gorovje].groupby('Zahtevnost').size()).rename(columns={0: Gorovje}) for Gorovje in gorovja]\n",
    "letne_teme = pd.concat(df_gorovje, axis=1)\n",
    "fig4 = plt.figure(1)\n",
    "ax4 = fig4.add_subplot(111)\n",
    "ax4.set_ylabel('Število poti glede na zahtevnost')\n",
    "colors = ['#E28A1D', '#E2BC1D', '#D7E21D', '#A6E21D', '#75E21D', '#1DB5E2', '#1D84E2', '#1D53E2', '#1D21E2', '#4A1DE2', '#7B1DE2', '#901DE0'][::-1]\n",
    "letne_teme.plot(kind='bar', ax=ax4, stacked=True, width=0.8, color=colors, title='Najbolj popularne letne teme')\n"
   ]
  }
 ],
 "metadata": {
  "kernelspec": {
   "display_name": "Python 3",
   "language": "python",
   "name": "python3"
  },
  "language_info": {
   "codemirror_mode": {
    "name": "ipython",
    "version": 3
   },
   "file_extension": ".py",
   "mimetype": "text/x-python",
   "name": "python",
   "nbconvert_exporter": "python",
   "pygments_lexer": "ipython3",
   "version": "3.11.2"
  },
  "orig_nbformat": 4
 },
 "nbformat": 4,
 "nbformat_minor": 2
}
